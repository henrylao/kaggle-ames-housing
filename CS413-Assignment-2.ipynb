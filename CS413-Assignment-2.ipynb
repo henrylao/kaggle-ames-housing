{
 "cells": [
  {
   "cell_type": "markdown",
   "metadata": {},
   "source": [
    "# CIS413: Analysis of Algorithms\n",
    "### Assignment 2\n",
    "### Henry Lao\n",
    "### Spring 2020"
   ]
  },
  {
   "cell_type": "code",
   "execution_count": 8,
   "metadata": {},
   "outputs": [],
   "source": [
    "import numpy as np"
   ]
  },
  {
   "cell_type": "markdown",
   "metadata": {},
   "source": [
    "# Exercise 2-1  \n",
    "Suppose you have algorithms with the five running times listed below.\n",
    "(Assume these are the exact running times.) How much slower do each of\n",
    "these algorithms get when you (a) double the input size, or (b) increase\n",
    "the input size by one?<br>\n",
    "<b>(a)</b> $n^2$<br>\n",
    "<b>(b)</b> $n^3$<br>\n",
    "<b>(c)</b> $100n^2$<br>\n",
    "<b>(d)</b> $n \\log n$<br>\n",
    "<b>(e)</b> $2^n$<br>"
   ]
  },
  {
   "cell_type": "markdown",
   "metadata": {},
   "source": [
    "# Double Input Size\n",
    "### ( a ) \n",
    "$f_0(n)=n^2$ <br>\n",
    "$f_{double}(2n)=(2n)^2$<br>\n",
    "$=4n^2$<br>\n",
    "$\\frac{f_{double}}{f_0}= \\frac{4n^2}{n^2}=4$<br>\n",
    "Doubling the input size for $n^2$ results in an increase of computational time by a factor of 4 <br>$\\therefore$ the algorithm is 4 times slower.\n",
    "<br>\n",
    "<br>\n",
    "### ( b ) \n",
    "$f_0(n)=n^3$<br>\n",
    "$f_{double}(2n)=(2n)^3$<br>\n",
    "$=8n^3$<br>\n",
    "$\\frac{f_{double}}{f_0}=\\frac{8n^3}{n^3}=8$<br>\n",
    "Doubling the input size for $n^3$ results in an increase of computational time by a factor of 8 <br>$\\therefore$ the algorithm is 8 times slower.\n",
    "<br>\n",
    "<br>\n",
    "### ( c )\n",
    "$f_0(n)=100n^2$<br>\n",
    "$f_{double}(2n)=100(2n)^2$<br>\n",
    "$=400n^2$<br>\n",
    "$\\frac{f_{double}}{f_0} =\\frac{400n^2}{100n^2}= 4$<br>\n",
    "Doubling the input size for $100n^2$ results in an increase of computational time by a factor of 4 <br>$\\therefore$ the algorithm is 4 times slower. \n",
    "<br>\n",
    "<br>\n",
    "### ( d )\n",
    "$f_0(n)=n\\log{n} $<br>\n",
    "$f_{double}(2n)=(2n)\\log{2n}$<br>\n",
    "$=2n\\log{2n} $<br>\n",
    "$=2n\\log{2} + 2n\\log{n}$<br>\n",
    "$\\frac{f_{double}} {f_0} = \\frac{2n\\log{2} + 2n\\log{n}}{n\\log{n}} $<br>\n",
    "$=[2n\\log{2} + 2n\\log{n}] - {n\\log{n}}$<br>\n",
    "$=2n\\log{2} + n\\log{n}$<br>\n",
    "Doubling the input size for $n\\log{n}$ results in an increase of computational time by $2n\\log{2} + n\\log{n}$.\n",
    "<br>\n",
    "<br>\n",
    "\n",
    "### ( e )\n",
    "$f_0(n)=2^n$<br>\n",
    "$f_{double}(2n)=2^{2n}$<br>\n",
    "$=(2^n)^2$<br>\n",
    "$\\frac{f_{double}}{f_0} = (2^n)^2 / $ <br>\n",
    "\n",
    "Changing the input size for $2^n$ results in an exponential increase of computational time <br>\n",
    "$\\therefore$ given the doubling of the input size, the computational time becomes squared.\n",
    "<br>\n",
    "<br>\n",
    "\n",
    "\n"
   ]
  },
  {
   "cell_type": "markdown",
   "metadata": {},
   "source": [
    "# Increase Input Size by One\n",
    "### ( a ) \n",
    "$f_0(n)=n^2$ <br>\n",
    "$f_{inc}(n+1)=(n+1)^2$<br>\n",
    "$=n^2 + 2n + 1$<br>\n",
    "${f_{inc}}-{f_0}$ <br>\n",
    "$= (n^2 + 2n + 1) - n^2 $<br>\n",
    "$=  2n + 1$<br>\n",
    "$\\therefore$ increasing the input size by 1 for $n^2$ results in an increase of computational time by 2n + 1 <br>\n",
    "<br>\n",
    "<br>\n",
    "\n",
    "### ( b ) \n",
    "$f_0(n)=n^3$<br>\n",
    "$f_{inc}(n+1)=(n+1)^3$<br>\n",
    "$=n^3 + 3n^2 + 3n + 1$<br>\n",
    "${f_{inc}}-{f_0}$ <br>\n",
    "$=(n^3 + 3n^2 + 3n + 1) - n^3 $<br>\n",
    "$=3n^2 + 3n + 1$ <br>\n",
    "$\\therefore$ increasing the input size by 1 for $n^3$ results in an increase of computational time by $3n^2 + 3n + 1$.\n",
    "<br>\n",
    "<br>\n",
    "\n",
    "### ( c )\n",
    "$f_0(n)=100n^2$<br>\n",
    "$f_{inc}(n+1)=100(n+1)^2$<br>\n",
    "$=100(n^2 + 2n + 1)$<br>\n",
    "${f_{inc}}-{f_0}$ <br>\n",
    "$100(n^2 + 2n + 1) - 100n^2$<br>\n",
    "$200n + 100$<br>\n",
    "$\\therefore$ increasing the input size by 1 for $100n^2$ results in an increase of computational time by $200n + 100$.\n",
    "<br>\n",
    "<br>\n",
    "\n",
    "### ( d )\n",
    "$f_0(n)=n\\log{n} $<br>\n",
    "$f_{inc}(n+1)=(n+1)\\log{(n+1)}$<br>\n",
    "$=(n+1)\\log{(n+1)} $<br>\n",
    "${f_{inc}}-{f_0}$ <br>\n",
    "$=(n+1)\\log{(n+1)} - {n\\log{n}}$<br>\n",
    "$=[n\\log{(n+1)} + \\log{(n+1)}] - n\\log{n}$<br>\n",
    "$\\approx\\log{(n+1)}$<br>\n",
    "$\\therefore$ increasing the input size by 1 for $n\\log{n}$ results in an approximate increase of computational time by $\\log{(n+1)}$.\n",
    "<br>\n",
    "<br>\n",
    "\n",
    "### ( e )\n",
    "$f_0(n)=2^n$<br>\n",
    "$f_{inc}(n+1)=2^{n+1}$<br>\n",
    "$=2^n\\cdot 2$ <br>\n",
    "$\\frac{f_{inc}}{f_0} = \\frac{2^n\\cdot 2}{2^n}$<br>\n",
    "$=2$<br>\n",
    "$\\therefore$ increasing the input size by 1 for $2^n$ results in a doubling of computational time<br>\n",
    "<br>\n",
    "<br>"
   ]
  },
  {
   "cell_type": "markdown",
   "metadata": {},
   "source": [
    "# Exercise 2-2\n",
    "Suppose you have algorithms with the six running times listed below.\n",
    "(Assume these are the exact number of operations performed as a function\n",
    "of the input size n.) Suppose you have a computer that can perform\n",
    "$10^10$ operations per second, and you need to compute a result in at most\n",
    "an hour of computation. For each of the algorithms, what is the largest\n",
    "input size n for which you would be able to get the result within an hour?<br>\n",
    "<b>(a)</b> $n^2$<br>\n",
    "<b>(b)</b> $n^3$<br>\n",
    "<b>(c)</b> $100n^2$<br>\n",
    "<b>(d)</b> $n \\log n$<br>\n",
    "<b>(e)</b> $2^n$<br>\n",
    "<b>(f)</b> $2^{2^{n}}$<br>"
   ]
  },
  {
   "cell_type": "markdown",
   "metadata": {},
   "source": [
    "$10^{10} \\frac{ops}{sec} \\times 60 \\frac{sec}{min} \\times 60 \\frac{min}{hr}$<br>\n",
    "$=3.6 \\times10^{13} \\frac{ops}{hr}$\n",
    "<br><br>\n",
    "### ( a )\n",
    "$n^2 = 3.6 \\times10^{13}$<br>\n",
    "$n=6\\times10^6$\n",
    "\n",
    "### ( b )\n",
    "$n^3 = 3.6 \\times10^{13}$<br>\n",
    "$n\\approx3.301927 \\times 10^4$\n",
    "\n",
    "### (c)\n",
    "$100n^2 = 3.6 \\times10^{13}$<br>\n",
    "$n=6\\times10^5$\n",
    "\n",
    "### (d)\n",
    "$n \\log n = 3.6 \\times10^{13}$<br>\n",
    "Assuming log is of base 2, then <br>\n",
    "$\\log_2{n}=\\frac{3.6 \\times10^{13}}{n}$<br>\n",
    "$n=2^{\\frac{3.6 \\times10^{13}}{n}}$<br>\n",
    "Note: $9\\times10^{11} < n < 10\\times10^{11}$<br>\n",
    "$\\therefore$ a reasonable estimate of n may be<br>\n",
    "$n\\approx9.5\\times10^{11}$\n",
    "\n",
    "### ( e ) \n",
    "$2^n =3.6 \\times10^{13} $<br>\n",
    "$\\log_2(2^n) = \\log_2(3.6 \\times10^{13})$<br>\n",
    "$ n \\approx 45.03 $ <br>\n",
    "\n",
    "### ( f ) \n",
    "$2^{2^{n}}= 3.6 \\times10^{13}$<br>\n",
    "$\\Rightarrow \\log_2(2^{2^{n}}) = \\log_2(3.6 \\times10^{13})$<br>\n",
    "$\\Rightarrow 2^n \\approx 45.03$<br>\n",
    "$\\Rightarrow \\log_2(2^n) \\approx \\log_2(45.03)$<br>\n",
    "$n\\approx 5.49$"
   ]
  },
  {
   "cell_type": "code",
   "execution_count": 14,
   "metadata": {},
   "outputs": [
    {
     "name": "stdout",
     "output_type": "stream",
     "text": [
      "ops/hr=3.600000e+13\n",
      "a=6.000000e+06\n",
      "b=3.301927e+04\n",
      "c=6.000000e+05\n",
      "e=4.503306e+01\n",
      "f=5.492815e+00\n"
     ]
    }
   ],
   "source": [
    "ops_in_hr = 10**10 * 60 * 60\n",
    "print(\"{}={:e}\".format(\"ops/hr\",ops_in_hr))\n",
    "print(\"{}={:e}\".format(\"a\",ops_in_hr**.5))\n",
    "print(\"{}={:e}\".format(\"b\",ops_in_hr**(1/3)))\n",
    "print(\"{}={:e}\".format(\"c\",(ops_in_hr/100)**0.5))\n",
    "# print(\"{}={:e}\".format(\"d\",np.log2(ops_in_hr)))\n",
    "print(\"{}={:e}\".format(\"e\",np.log2(ops_in_hr)))\n",
    "print(\"{}={:e}\".format(\"f\",np.log2(45.03)))"
   ]
  },
  {
   "cell_type": "markdown",
   "metadata": {},
   "source": [
    "# Exercise 2-3\n",
    "Take the following list of functions and arrange them in ascending order\n",
    "of growth rate. That is, if function g(n) immediately follows function f (n)\n",
    "in your list, then it should be the case that f (n) is O(g(n)).<br>\n",
    "$f_1(n) = n^{2.5}$<br>\n",
    "$f_2(n) = \\sqrt{2n}$<br>\n",
    "$f_3(n) = n + 10$<br>\n",
    "$f_4(n) = 10^n$<br>\n",
    "$f_5(n) = 100^n$<br>\n",
    "$f_6(n) = n^2 \\log n$"
   ]
  },
  {
   "cell_type": "code",
   "execution_count": null,
   "metadata": {},
   "outputs": [],
   "source": []
  },
  {
   "cell_type": "markdown",
   "metadata": {},
   "source": [
    "# Exercise 2-4\n",
    "Take the following list of functions and arrange them in ascending order\n",
    "of growth rate. That is, if function g(n) immediately follows function f (n)\n",
    "in your list, then it should be the case that f (n) is O(g(n)).<br>\n",
    "$g_1(n) = 2^{\\sqrt\\log n}$<br>\n",
    "$g_2(n) = 2^n$<br>\n",
    "$g_4(n) = n^{\\frac{4}{3}}$<br>\n",
    "$g_3(n) = n(\\log n)^3$<br>\n",
    "$g_5(n) = n^{\\log n}$<br>\n",
    "$g_6(n) = 2^{2^n}$<br>\n",
    "$g_7(n) = 2^{n^2}$<br>"
   ]
  },
  {
   "cell_type": "code",
   "execution_count": null,
   "metadata": {},
   "outputs": [],
   "source": []
  }
 ],
 "metadata": {
  "kernelspec": {
   "display_name": "Python 3",
   "language": "python",
   "name": "python3"
  },
  "language_info": {
   "codemirror_mode": {
    "name": "ipython",
    "version": 3
   },
   "file_extension": ".py",
   "mimetype": "text/x-python",
   "name": "python",
   "nbconvert_exporter": "python",
   "pygments_lexer": "ipython3",
   "version": "3.8.5"
  }
 },
 "nbformat": 4,
 "nbformat_minor": 4
}
